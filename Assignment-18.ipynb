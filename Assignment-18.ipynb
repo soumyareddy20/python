{
 "cells": [
  {
   "cell_type": "code",
   "execution_count": 1,
   "id": "4be90586",
   "metadata": {},
   "outputs": [
    {
     "name": "stdout",
     "output_type": "stream",
     "text": [
      "Page Title:\n",
      "Example Domain\n"
     ]
    }
   ],
   "source": [
    "import requests\n",
    "from bs4 import BeautifulSoup\n",
    "\n",
    "def fetch_title(url):\n",
    "    # Send an HTTP GET request to the webpage\n",
    "    response = requests.get(url)\n",
    "    \n",
    "    # Check if the request was successful\n",
    "    if response.status_code == 200:\n",
    "        # Parse the HTML content of the page\n",
    "        soup = BeautifulSoup(response.content, 'html.parser')\n",
    "        \n",
    "        # Find and return the title of the page\n",
    "        title = soup.title.string if soup.title else 'No title found'\n",
    "        return title\n",
    "    else:\n",
    "        return f\"Failed to retrieve the page. Status code: {response.status_code}\"\n",
    "\n",
    "# Test the function with the given URL\n",
    "url = 'https://example.com'\n",
    "page_title = fetch_title(url)\n",
    "\n",
    "print(\"Page Title:\")\n",
    "print(page_title)\n"
   ]
  },
  {
   "cell_type": "code",
   "execution_count": null,
   "id": "3acc035c",
   "metadata": {},
   "outputs": [],
   "source": []
  }
 ],
 "metadata": {
  "kernelspec": {
   "display_name": "Python 3 (ipykernel)",
   "language": "python",
   "name": "python3"
  },
  "language_info": {
   "codemirror_mode": {
    "name": "ipython",
    "version": 3
   },
   "file_extension": ".py",
   "mimetype": "text/x-python",
   "name": "python",
   "nbconvert_exporter": "python",
   "pygments_lexer": "ipython3",
   "version": "3.9.13"
  }
 },
 "nbformat": 4,
 "nbformat_minor": 5
}
