{
 "cells": [
  {
   "cell_type": "code",
   "execution_count": null,
   "id": "50358d01-5550-456f-a7ae-87b680b5aaf8",
   "metadata": {},
   "outputs": [],
   "source": [
    "n=int(input(\"Enter positive number: \"))\n",
    "even_sum=0\n",
    "for num in range(2, n+1,2):\n",
    "even_sum += num\n",
    "print(\"Sum of all even numbers between 1 and\", "
   ]
  }
 ],
 "metadata": {
  "kernelspec": {
   "display_name": "",
   "name": ""
  },
  "language_info": {
   "name": ""
  }
 },
 "nbformat": 4,
 "nbformat_minor": 5
}
