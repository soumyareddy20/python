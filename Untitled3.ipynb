{
 "cells": [
  {
   "cell_type": "code",
   "execution_count": 1,
   "id": "8bc99efa-9316-4e18-ab21-172538eb1000",
   "metadata": {},
   "outputs": [
    {
     "name": "stdout",
     "output_type": "stream",
     "text": [
      "['__add__', '__class__', '__contains__', '__delattr__', '__dir__', '__doc__', '__eq__', '__format__', '__ge__', '__getattribute__', '__getitem__', '__getnewargs__', '__getstate__', '__gt__', '__hash__', '__init__', '__init_subclass__', '__iter__', '__le__', '__len__', '__lt__', '__mod__', '__mul__', '__ne__', '__new__', '__reduce__', '__reduce_ex__', '__repr__', '__rmod__', '__rmul__', '__setattr__', '__sizeof__', '__str__', '__subclasshook__', 'capitalize', 'casefold', 'center', 'count', 'encode', 'endswith', 'expandtabs', 'find', 'format', 'format_map', 'index', 'isalnum', 'isalpha', 'isascii', 'isdecimal', 'isdigit', 'isidentifier', 'islower', 'isnumeric', 'isprintable', 'isspace', 'istitle', 'isupper', 'join', 'ljust', 'lower', 'lstrip', 'maketrans', 'partition', 'removeprefix', 'removesuffix', 'replace', 'rfind', 'rindex', 'rjust', 'rpartition', 'rsplit', 'rstrip', 'split', 'splitlines', 'startswith', 'strip', 'swapcase', 'title', 'translate', 'upper', 'zfill']\n"
     ]
    }
   ],
   "source": [
    "#built in functions\n",
    "print(dir(str))"
   ]
  },
  {
   "cell_type": "code",
   "execution_count": 13,
   "id": "e523e6a3-00ed-46ea-8f8d-d54cb300fb23",
   "metadata": {},
   "outputs": [
    {
     "name": "stdin",
     "output_type": "stream",
     "text": [
      "Enter your username:  dfgihu\n",
      "Enter your password:  sou\n"
     ]
    },
    {
     "name": "stdout",
     "output_type": "stream",
     "text": [
      "Invalid username or password. Please try again\n"
     ]
    }
   ],
   "source": [
    "correct_username = \"your_username\"  \n",
    "correct_password = \"your_password\"  \n",
    "\n",
    "username = input(\"Enter your username: \")\n",
    "password = input(\"Enter your password: \")\n",
    "\n",
    "if username == correct_username and password == correct_password:\n",
    "    print(\"Login successful\")\n",
    "else:\n",
    "    print(\"Invalid username or password. Please try again\")\n"
   ]
  },
  {
   "cell_type": "code",
   "execution_count": 14,
   "id": "04599536-3645-45da-80c6-24a0e69cf96b",
   "metadata": {},
   "outputs": [
    {
     "name": "stdout",
     "output_type": "stream",
     "text": [
      "[0, 1, 2, 3, 4, 5, 6, 7, 8, 9]\n"
     ]
    }
   ],
   "source": [
    "a = range(10)\n",
    "b = list(a)\n",
    "print(b)"
   ]
  },
  {
   "cell_type": "code",
   "execution_count": 16,
   "id": "9e9aac7b-7b69-4ad6-a5ff-b9abd8debf86",
   "metadata": {},
   "outputs": [
    {
     "name": "stdout",
     "output_type": "stream",
     "text": [
      "sou\n"
     ]
    }
   ],
   "source": [
    "a = (\"hello\")\n",
    "b = a.replace(\"hello\",\"sou\")\n",
    "print(b)"
   ]
  },
  {
   "cell_type": "code",
   "execution_count": 22,
   "id": "7399b81f-f271-485c-9c1c-3bb6f4a19316",
   "metadata": {},
   "outputs": [
    {
     "name": "stdout",
     "output_type": "stream",
     "text": [
      "40\n"
     ]
    }
   ],
   "source": [
    "def add_numbers(a,b):\n",
    "    result = a + b\n",
    "    return result\n",
    "result2 = add_numbers(10,30)\n",
    "print(result2)"
   ]
  },
  {
   "cell_type": "code",
   "execution_count": 34,
   "id": "26f591fa-c06a-450c-88ef-bdc01fdadbdd",
   "metadata": {},
   "outputs": [
    {
     "name": "stdout",
     "output_type": "stream",
     "text": [
      "26\n"
     ]
    }
   ],
   "source": [
    "def add_numbers(a,b):\n",
    "    result = a + b\n",
    "    return result\n",
    "a = add_numbers(20,6)\n",
    "print(a)\n"
   ]
  },
  {
   "cell_type": "code",
   "execution_count": 37,
   "id": "0769e0d2-450e-41d7-91c4-c7325a17b5e2",
   "metadata": {},
   "outputs": [
    {
     "name": "stdout",
     "output_type": "stream",
     "text": [
      "26\n"
     ]
    }
   ],
   "source": [
    "def add_numbers(a, b):\n",
    "    c = a + b\n",
    "    return c\n",
    "a = add_numbers(20, 6)  \n",
    "print(a)"
   ]
  },
  {
   "cell_type": "code",
   "execution_count": 54,
   "id": "58bc30fc-3d00-4c72-b4aa-ad0ac17b361b",
   "metadata": {},
   "outputs": [
    {
     "name": "stdout",
     "output_type": "stream",
     "text": [
      "Sum of 1, 2, 3, 4:  10\n",
      "calculate_sum(1, 2, 3, 4):  10\n"
     ]
    }
   ],
   "source": [
    "\n",
    "def calculate_sum(*args):\n",
    "    total = sum(args)\n",
    "    return total\n",
    "print(\"Sum of 1, 2, 3, 4: \", calculate_sum(1, 2, 3, 4))\n",
    "print(\"calculate_sum(1, 2, 3, 4): \", calculate_sum (1, 2, 3, 4))"
   ]
  },
  {
   "cell_type": "code",
   "execution_count": 52,
   "id": "3d884497-9b1c-4a6d-ab98-b797baaf600b",
   "metadata": {},
   "outputs": [
    {
     "name": "stdout",
     "output_type": "stream",
     "text": [
      "Sum of 1, 2, 3, 4:  10\n",
      "calculate_sum(1, 2, 3, 4):  10\n"
     ]
    }
   ],
   "source": [
    "def calculate_sum(*args):\n",
    "    total = sum(args)\n",
    "    return total\n",
    "print(\"Sum of 1, 2, 3, 4: \", calculate_sum(1, 2, 3, 4))\n",
    "print(\"calculate_sum(1, 2, 3, 4): \", calculate_sum(1, 2, 3, 4))\n"
   ]
  },
  {
   "cell_type": "code",
   "execution_count": null,
   "id": "3fc2e9be-edaf-46dc-95cc-5cee90897141",
   "metadata": {},
   "outputs": [],
   "source": []
  },
  {
   "cell_type": "code",
   "execution_count": null,
   "id": "7c985435-3e5a-49f7-b93b-13ee266a6cd8",
   "metadata": {},
   "outputs": [],
   "source": []
  }
 ],
 "metadata": {
  "kernelspec": {
   "display_name": "Python 3 (ipykernel)",
   "language": "python",
   "name": "python3"
  },
  "language_info": {
   "codemirror_mode": {
    "name": "ipython",
    "version": 3
   },
   "file_extension": ".py",
   "mimetype": "text/x-python",
   "name": "python",
   "nbconvert_exporter": "python",
   "pygments_lexer": "ipython3",
   "version": "3.12.7"
  }
 },
 "nbformat": 4,
 "nbformat_minor": 5
}
