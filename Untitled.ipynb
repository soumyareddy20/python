{
 "cells": [
  {
   "cell_type": "code",
   "execution_count": 1,
   "id": "4fdf6e2f-ccbb-4723-9ed0-f07c7949332e",
   "metadata": {},
   "outputs": [
    {
     "name": "stdout",
     "output_type": "stream",
     "text": [
      "original Integer: 697\n",
      "1394\n"
     ]
    },
    {
     "data": {
      "text/plain": [
       "int"
      ]
     },
     "execution_count": 1,
     "metadata": {},
     "output_type": "execute_result"
    }
   ],
   "source": [
    "my_int = 697\n",
    "print(\"original Integer:\", my_int)\n",
    "result = my_int * 2\n",
    "print(result)\n",
    "type(my_int)"
   ]
  },
  {
   "cell_type": "code",
   "execution_count": 2,
   "id": "8cb57d75-fadd-4e32-9854-fa0440f93ea7",
   "metadata": {},
   "outputs": [
    {
     "name": "stdout",
     "output_type": "stream",
     "text": [
      "['Hello', 'morning', 56, 89]\n"
     ]
    }
   ],
   "source": [
    "list=['Hello','morning',56]\n",
    "list.append(89)\n",
    "print(list)"
   ]
  },
  {
   "cell_type": "code",
   "execution_count": 3,
   "id": "de84b6f5-d2dd-43e8-917d-5aa48f1f5e0f",
   "metadata": {},
   "outputs": [
    {
     "name": "stdout",
     "output_type": "stream",
     "text": [
      "7\n"
     ]
    }
   ],
   "source": [
    "tuple=(2,7,9)\n",
    "a=tuple[1]\n",
    "print(a)"
   ]
  },
  {
   "cell_type": "code",
   "execution_count": 4,
   "id": "d6e72d29-f659-4813-8937-9e84648f310d",
   "metadata": {},
   "outputs": [
    {
     "name": "stdout",
     "output_type": "stream",
     "text": [
      "{2, 4, 5, 6, 7}\n",
      "{2, 4, 6, 7}\n"
     ]
    }
   ],
   "source": [
    "set={4,5,6,7}\n",
    "set.add(2)\n",
    "print(set)\n",
    "set.remove(5)\n",
    "print(set)"
   ]
  },
  {
   "cell_type": "code",
   "execution_count": 7,
   "id": "220a7a5b-886f-4fc3-ae1b-252eb85757cc",
   "metadata": {},
   "outputs": [
    {
     "name": "stdout",
     "output_type": "stream",
     "text": [
      "[1, 2, 3, 4]\n"
     ]
    }
   ],
   "source": [
    "my_list = [2,3,4]\n",
    "my_list.insert(0, 1)\n",
    "print(my_list)"
   ]
  },
  {
   "cell_type": "code",
   "execution_count": 15,
   "id": "34b79fbe-a528-4d98-8ca2-369b82dee752",
   "metadata": {},
   "outputs": [
    {
     "name": "stdout",
     "output_type": "stream",
     "text": [
      "[2, 600, 3, 4]\n"
     ]
    }
   ],
   "source": [
    "my_list = [2,3,4]\n",
    "middle_index=len(my_list)//3\n",
    "my_list.insert(middle_index,600)\n",
    "print(my_list)"
   ]
  },
  {
   "cell_type": "code",
   "execution_count": null,
   "id": "de159879-6fbc-4bc8-8692-c6d1c0d09f20",
   "metadata": {},
   "outputs": [],
   "source": []
  }
 ],
 "metadata": {
  "kernelspec": {
   "display_name": "Python 3 (ipykernel)",
   "language": "python",
   "name": "python3"
  },
  "language_info": {
   "codemirror_mode": {
    "name": "ipython",
    "version": 3
   },
   "file_extension": ".py",
   "mimetype": "text/x-python",
   "name": "python",
   "nbconvert_exporter": "python",
   "pygments_lexer": "ipython3",
   "version": "3.12.7"
  }
 },
 "nbformat": 4,
 "nbformat_minor": 5
}
