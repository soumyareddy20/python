{
 "cells": [
  {
   "cell_type": "code",
   "execution_count": 24,
   "id": "c662c436-2824-4178-a339-50728e7bdf7b",
   "metadata": {},
   "outputs": [
    {
     "name": "stdout",
     "output_type": "stream",
     "text": [
      "First Element: 10\n",
      "Third Element: 30\n",
      "Last Element: 50\n",
      "Second last Element: 40\n",
      "First three Elements: [10, 20, 30]\n",
      "first element: apple\n",
      "Third element: berry\n",
      "last three elements: ('apple', 'banana', 'rashberry')\n",
      "Name: vaishnavi\n",
      "age: 19\n",
      "name:vaishnavi\n",
      "age:19\n",
      "city:hyderabad\n"
     ]
    }
   ],
   "source": [
    "my_list=[10,20,30,40,50]\n",
    "print(\"First Element:\", my_list[0])\n",
    "print(\"Third Element:\", my_list[2])\n",
    "print(\"Last Element:\", my_list[-1])\n",
    "print(\"Second last Element:\", my_list[-2])\n",
    "print(\"First three Elements:\", my_list[:3])\n",
    "my_tuple=('apple','banana','rashberry','berry')\n",
    "print(\"first element:\", my_tuple[0])\n",
    "print(\"Third element:\", my_tuple[3])\n",
    "print(\"last three elements:\", my_tuple[:3])\n",
    "my_dict={\"name\":\"vaishnavi\",\"age\":19,\"city\":\"hyderabad\"}\n",
    "print(\"Name:\", my_dict[\"name\"])\n",
    "print(\"age:\", my_dict.get(\"age\"))\n",
    "for key, value in my_dict.items():\n",
    "    print(f\"{key}:{value}\")"
   ]
  },
  {
   "cell_type": "code",
   "execution_count": null,
   "id": "296a3c97-51b2-45f3-805a-45d326dd4c06",
   "metadata": {},
   "outputs": [],
   "source": []
  },
  {
   "cell_type": "code",
   "execution_count": null,
   "id": "78f6d650-eaf1-45b2-8360-04f16be200ad",
   "metadata": {},
   "outputs": [],
   "source": []
  }
 ],
 "metadata": {
  "kernelspec": {
   "display_name": "Python 3 (ipykernel)",
   "language": "python",
   "name": "python3"
  },
  "language_info": {
   "codemirror_mode": {
    "name": "ipython",
    "version": 3
   },
   "file_extension": ".py",
   "mimetype": "text/x-python",
   "name": "python",
   "nbconvert_exporter": "python",
   "pygments_lexer": "ipython3",
   "version": "3.12.7"
  }
 },
 "nbformat": 4,
 "nbformat_minor": 5
}
