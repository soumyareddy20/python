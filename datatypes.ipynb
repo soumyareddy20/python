{
 "cells": [
  {
   "cell_type": "code",
   "execution_count": 1,
   "id": "6c09d95f-5427-4a5b-8405-a161d48f974a",
   "metadata": {},
   "outputs": [
    {
     "name": "stdout",
     "output_type": "stream",
     "text": [
      "my_integer: 42 <class 'int'>\n",
      "my_float: 3.1456 <class 'float'>\n",
      "my_float: hello <class 'str'>\n",
      "my_float: True <class 'str'>\n"
     ]
    }
   ],
   "source": [
    "my_integer=42\n",
    "my_float=3.1456\n",
    "my_string=\"hello\"\n",
    "my_boolean=\"True\"\n",
    "print(\"my_integer:\", my_integer, type(my_integer))\n",
    "print(\"my_float:\", my_float, type(my_float))\n",
    "print(\"my_float:\", my_string, type(my_string))\n",
    "print(\"my_float:\", my_boolean, type(my_boolean))"
   ]
  },
  {
   "cell_type": "code",
   "execution_count": null,
   "id": "6de2abb2-0ed5-4ca4-8926-fda39c2b8b9b",
   "metadata": {},
   "outputs": [],
   "source": []
  }
 ],
 "metadata": {
  "kernelspec": {
   "display_name": "Python 3 (ipykernel)",
   "language": "python",
   "name": "python3"
  },
  "language_info": {
   "codemirror_mode": {
    "name": "ipython",
    "version": 3
   },
   "file_extension": ".py",
   "mimetype": "text/x-python",
   "name": "python",
   "nbconvert_exporter": "python",
   "pygments_lexer": "ipython3",
   "version": "3.12.7"
  }
 },
 "nbformat": 4,
 "nbformat_minor": 5
}
