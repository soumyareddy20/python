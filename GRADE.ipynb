{
 "cells": [
  {
   "cell_type": "code",
   "execution_count": 2,
   "id": "1e7e2da2-b183-464e-92df-b26c2611e061",
   "metadata": {},
   "outputs": [
    {
     "name": "stdin",
     "output_type": "stream",
     "text": [
      "subject1:  30\n",
      "subject2:  40\n",
      "subject3:  10\n"
     ]
    },
    {
     "name": "stdout",
     "output_type": "stream",
     "text": [
      "FAIL\n"
     ]
    }
   ],
   "source": [
    "m1=int(input(\"subject1: \"))\n",
    "m2=int(input(\"subject2: \"))\n",
    "m3=int(input(\"subject3: \"))\n",
    "average = (m1+m2+m3)/3\n",
    "if average >= 90:\n",
    "    print(\"GRADE:A\")\n",
    "elif 80<= average <90:\n",
    "    print(\"GRADE: B\")\n",
    "elif 70<= average <80:\n",
    "    print(\"GRADE: C\")\n",
    "else:\n",
    "    print(\"FAIL\")"
   ]
  },
  {
   "cell_type": "code",
   "execution_count": null,
   "id": "d06d2df2-3222-4ab5-bbfb-7c36cb6f211d",
   "metadata": {},
   "outputs": [],
   "source": []
  }
 ],
 "metadata": {
  "kernelspec": {
   "display_name": "Python 3 (ipykernel)",
   "language": "python",
   "name": "python3"
  },
  "language_info": {
   "codemirror_mode": {
    "name": "ipython",
    "version": 3
   },
   "file_extension": ".py",
   "mimetype": "text/x-python",
   "name": "python",
   "nbconvert_exporter": "python",
   "pygments_lexer": "ipython3",
   "version": "3.12.7"
  }
 },
 "nbformat": 4,
 "nbformat_minor": 5
}
