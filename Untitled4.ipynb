{
 "cells": [
  {
   "cell_type": "code",
   "execution_count": 6,
   "id": "d59dd960-4cec-4ddf-a4ed-ea417d65d358",
   "metadata": {},
   "outputs": [
    {
     "name": "stdin",
     "output_type": "stream",
     "text": [
      "Enter a positive integer:  42\n"
     ]
    },
    {
     "name": "stdout",
     "output_type": "stream",
     "text": [
      "The sum of all even numbers between 1 and 42 is 462\n"
     ]
    }
   ],
   "source": [
    "n = int(input(\"Enter a positive integer: \"))\n",
    "        \n",
    "sum_even = sum(range(2, n + 1, 2))\n",
    "\n",
    "print(f\"The sum of all even numbers between 1 and {n} is {sum_even}\")"
   ]
  },
  {
   "cell_type": "code",
   "execution_count": 7,
   "id": "e46d7a8f-4f2c-4cab-bf32-89a1b038af9a",
   "metadata": {},
   "outputs": [
    {
     "name": "stdout",
     "output_type": "stream",
     "text": [
      "10\n",
      "30\n",
      "50\n"
     ]
    }
   ],
   "source": [
    "my_list = [10, 20, 30, 40, 50]\n",
    "print(my_list[0])\n",
    "print(my_list[2])\n",
    "print(my_list[-1])\n",
    "\n"
   ]
  },
  {
   "cell_type": "code",
   "execution_count": 8,
   "id": "a9c07b06-47b8-419b-8573-7dc361109149",
   "metadata": {},
   "outputs": [
    {
     "name": "stdout",
     "output_type": "stream",
     "text": [
      "1\n",
      "3\n",
      "5\n"
     ]
    }
   ],
   "source": [
    "my_tuple = (1, 2, 3, 5)\n",
    "print(my_tuple[0])\n",
    "print(my_tuple[2])\n",
    "print(my_tuple[-1])"
   ]
  },
  {
   "cell_type": "code",
   "execution_count": 10,
   "id": "d9123dd7-dbfe-4a12-8d2f-340fe476d113",
   "metadata": {},
   "outputs": [
    {
     "name": "stdout",
     "output_type": "stream",
     "text": [
      "100\n",
      "300\n",
      "500\n"
     ]
    }
   ],
   "source": [
    "my_dict = {\"a\": 100, \"b\": 200, \"c\": 300, \"d\": 400, \"e\": 500}\n",
    "print(my_dict[\"a\"])\n",
    "print(my_dict[\"c\"])\n",
    "print(my_dict[\"e\"])\n",
    "\n"
   ]
  },
  {
   "cell_type": "code",
   "execution_count": 15,
   "id": "2836e600-5af7-423d-b3fe-196f1c6879c2",
   "metadata": {},
   "outputs": [
    {
     "name": "stdin",
     "output_type": "stream",
     "text": [
      "Enter marks for subject 1:  90\n",
      "Enter marks for subject 2:  95\n",
      "Enter marks for subject 3:  88\n"
     ]
    },
    {
     "name": "stdout",
     "output_type": "stream",
     "text": [
      "Grade: A\n"
     ]
    }
   ],
   "source": [
    "marks1 = float(input(\"Enter marks for subject 1: \"))\n",
    "marks2 = float(input(\"Enter marks for subject 2: \"))\n",
    "marks3 = float(input(\"Enter marks for subject 3: \"))\n",
    "\n",
    "average = (marks1 + marks2 + marks3) / 3\n",
    "if average >= 90:\n",
    "    print(\"Grade: A\")\n",
    "elif average >= 80:\n",
    "    print(\"Grade: B\")\n",
    "elif average >= 70:\n",
    "    print(\"Grade: c\")\n",
    "else:\n",
    "    print(\"Grade: Fail\")\n",
    "    \n",
    "    \n",
    "    \n"
   ]
  },
  {
   "cell_type": "code",
   "execution_count": 17,
   "id": "467a69ca-9539-47cc-a18c-e089a9003150",
   "metadata": {},
   "outputs": [
    {
     "name": "stdout",
     "output_type": "stream",
     "text": [
      "Integer variable: 10  Type: <class 'int'>\n",
      "Float variable: 3.14  Type: <class 'float'>\n",
      "String variable: Hello, World!  Type: <class 'str'>\n",
      "Boolean variable: True  Type: <class 'bool'>\n"
     ]
    }
   ],
   "source": [
    "integer_var = 10\n",
    "float_var = 3.14\n",
    "string_var = \"Hello, World!\"\n",
    "boolean_var = True\n",
    "\n",
    "print(\"Integer variable:\", integer_var, \" Type:\", type(integer_var))\n",
    "print(\"Float variable:\", float_var, \" Type:\", type(float_var))\n",
    "print(\"String variable:\", string_var, \" Type:\", type(string_var))\n",
    "print(\"Boolean variable:\", boolean_var, \" Type:\", type(boolean_var))"
   ]
  },
  {
   "cell_type": "code",
   "execution_count": null,
   "id": "99b4ac71-a9a7-43fd-90d4-fe7dd09961f6",
   "metadata": {},
   "outputs": [],
   "source": []
  }
 ],
 "metadata": {
  "kernelspec": {
   "display_name": "Python 3 (ipykernel)",
   "language": "python",
   "name": "python3"
  },
  "language_info": {
   "codemirror_mode": {
    "name": "ipython",
    "version": 3
   },
   "file_extension": ".py",
   "mimetype": "text/x-python",
   "name": "python",
   "nbconvert_exporter": "python",
   "pygments_lexer": "ipython3",
   "version": "3.12.7"
  }
 },
 "nbformat": 4,
 "nbformat_minor": 5
}
